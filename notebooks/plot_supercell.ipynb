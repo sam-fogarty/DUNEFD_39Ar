{
 "cells": [
  {
   "cell_type": "code",
   "execution_count": 2,
   "id": "e286b884-63c4-4d3d-97c9-a08fd46a1d78",
   "metadata": {},
   "outputs": [],
   "source": [
    "import matplotlib.pyplot as plt\n",
    "import numpy as np\n",
    "import uproot"
   ]
  },
  {
   "cell_type": "code",
   "execution_count": null,
   "id": "ec21c16c-3910-4e5b-9c48-82945260ed24",
   "metadata": {},
   "outputs": [],
   "source": []
  },
  {
   "cell_type": "code",
   "execution_count": 22,
   "id": "afc79c09-a46e-46da-aee4-64972ae375c4",
   "metadata": {},
   "outputs": [],
   "source": [
    "f = uproot.open('pdhd_028850_LowECLMatching_test2.root')\n",
    "tree = f[\"results\"]\n",
    "charge_x = tree[\"charge_x\"].array()\n",
    "charge_z = tree[\"charge_z\"].array()\n",
    "charge_y = tree[\"charge_y\"].array()\n",
    "dt = tree[\"dt\"].array()\n",
    "apa = tree[\"APA\"].array()\n",
    "charge_nplanes = tree[\"charge_nplanes\"].array()\n",
    "pds_amplitude = tree[\"pds_amplitude\"].array()\n",
    "charge_energy = tree[\"charge_energy\"].array()\n",
    "charge_peaktime = tree[\"charge_peaktime\"].array()\n",
    "pds_channel = tree[\"pds_ch\"].array()\n",
    "\n",
    "mask = (charge_nplanes == 2) & (pds_amplitude > 120) & (charge_energy > 15)"
   ]
  },
  {
   "cell_type": "code",
   "execution_count": 71,
   "id": "8fe01d29-2275-4385-8fc8-5d010fd8399d",
   "metadata": {},
   "outputs": [
    {
     "ename": "KeyInFileError",
     "evalue": "not found: 'b'\n\n    Available keys: 'Z', 'Y', 'T', 'APA', 'nplanes'\n\nin file pdhd_028850_LowECLMatching_test_tightTwindow_singles_and_doubles.root\nin object /all_charge;1",
     "output_type": "error",
     "traceback": [
      "\u001b[0;31m---------------------------------------------------------------------------\u001b[0m",
      "\u001b[0;31mKeyInFileError\u001b[0m                            Traceback (most recent call last)",
      "Cell \u001b[0;32mIn[71], line 2\u001b[0m\n\u001b[1;32m      1\u001b[0m tree_charge_all \u001b[38;5;241m=\u001b[39m f[\u001b[38;5;124m'\u001b[39m\u001b[38;5;124mall_charge\u001b[39m\u001b[38;5;124m'\u001b[39m]\n\u001b[0;32m----> 2\u001b[0m \u001b[43mtree_charge_all\u001b[49m\u001b[43m[\u001b[49m\u001b[38;5;124;43m'\u001b[39;49m\u001b[38;5;124;43mb\u001b[39;49m\u001b[38;5;124;43m'\u001b[39;49m\u001b[43m]\u001b[49m\n",
      "File \u001b[0;32m/exp/dune/data/users/sfogarty/DUNEFD_39Ar/daq/.venv/lib/python3.10/site-packages/uproot/behaviors/TBranch.py:1653\u001b[0m, in \u001b[0;36mHasBranches.__getitem__\u001b[0;34m(self, where)\u001b[0m\n\u001b[1;32m   1651\u001b[0m         \u001b[38;5;28;01mreturn\u001b[39;00m got\n\u001b[1;32m   1652\u001b[0m     \u001b[38;5;28;01melse\u001b[39;00m:\n\u001b[0;32m-> 1653\u001b[0m         \u001b[38;5;28;01mraise\u001b[39;00m uproot\u001b[38;5;241m.\u001b[39mKeyInFileError(\n\u001b[1;32m   1654\u001b[0m             original_where,\n\u001b[1;32m   1655\u001b[0m             keys\u001b[38;5;241m=\u001b[39m\u001b[38;5;28mself\u001b[39m\u001b[38;5;241m.\u001b[39mkeys(recursive\u001b[38;5;241m=\u001b[39mrecursive),\n\u001b[1;32m   1656\u001b[0m             file_path\u001b[38;5;241m=\u001b[39m\u001b[38;5;28mself\u001b[39m\u001b[38;5;241m.\u001b[39m_file\u001b[38;5;241m.\u001b[39mfile_path,\n\u001b[1;32m   1657\u001b[0m             object_path\u001b[38;5;241m=\u001b[39m\u001b[38;5;28mself\u001b[39m\u001b[38;5;241m.\u001b[39mobject_path,\n\u001b[1;32m   1658\u001b[0m         )\n\u001b[1;32m   1660\u001b[0m \u001b[38;5;28;01melse\u001b[39;00m:\n\u001b[1;32m   1661\u001b[0m     \u001b[38;5;28;01mraise\u001b[39;00m uproot\u001b[38;5;241m.\u001b[39mKeyInFileError(\n\u001b[1;32m   1662\u001b[0m         original_where,\n\u001b[1;32m   1663\u001b[0m         keys\u001b[38;5;241m=\u001b[39m\u001b[38;5;28mself\u001b[39m\u001b[38;5;241m.\u001b[39mkeys(recursive\u001b[38;5;241m=\u001b[39mrecursive),\n\u001b[1;32m   1664\u001b[0m         file_path\u001b[38;5;241m=\u001b[39m\u001b[38;5;28mself\u001b[39m\u001b[38;5;241m.\u001b[39m_file\u001b[38;5;241m.\u001b[39mfile_path,\n\u001b[1;32m   1665\u001b[0m         object_path\u001b[38;5;241m=\u001b[39m\u001b[38;5;28mself\u001b[39m\u001b[38;5;241m.\u001b[39mobject_path,\n\u001b[1;32m   1666\u001b[0m     )\n",
      "\u001b[0;31mKeyInFileError\u001b[0m: not found: 'b'\n\n    Available keys: 'Z', 'Y', 'T', 'APA', 'nplanes'\n\nin file pdhd_028850_LowECLMatching_test_tightTwindow_singles_and_doubles.root\nin object /all_charge;1"
     ]
    }
   ],
   "source": [
    "tree_charge_all = f['all_charge']\n",
    "tree_charge_all['b']"
   ]
  },
  {
   "cell_type": "code",
   "execution_count": 67,
   "id": "bcf81326-7551-47cb-978d-378edf7470b3",
   "metadata": {},
   "outputs": [
    {
     "data": {
      "text/plain": [
       "(array([1., 0., 0., 2., 0., 3., 0., 1., 2., 0., 0., 0., 1., 0., 0., 0., 0.,\n",
       "        0., 0., 0., 1., 3., 4., 0., 1., 0., 3., 1., 1., 0., 0., 0., 4., 0.,\n",
       "        1., 0., 1., 0., 1., 1., 1., 1., 1., 3., 1., 0., 2., 2., 0., 2.]),\n",
       " array([  0.,  10.,  20.,  30.,  40.,  50.,  60.,  70.,  80.,  90., 100.,\n",
       "        110., 120., 130., 140., 150., 160., 170., 180., 190., 200., 210.,\n",
       "        220., 230., 240., 250., 260., 270., 280., 290., 300., 310., 320.,\n",
       "        330., 340., 350., 360., 370., 380., 390., 400., 410., 420., 430.,\n",
       "        440., 450., 460., 470., 480., 490., 500.]),\n",
       " <BarContainer object of 50 artists>)"
      ]
     },
     "execution_count": 67,
     "metadata": {},
     "output_type": "execute_result"
    },
    {
     "data": {
      "image/png": "[encoded data removed]",
      "text/plain": [
       "<Figure size 1000x600 with 2 Axes>"
      ]
     },
     "metadata": {},
     "output_type": "display_data"
    }
   ],
   "source": [
    "mask_bi = (charge_nplanes == 3) & (pds_amplitude > 120) & (charge_energy > 15) & (pds_channel == 89)\n",
    "factor = 5E-3\n",
    "R = 0.67\n",
    "Wions = 23.6*10E-6\n",
    "calib = Wions/(factor*R)\n",
    "fig, axes = plt.subplots(nrows=1, ncols=2, figsize=(10,6))\n",
    "axes[0].hist(charge_energy[mask_bi]*calib, range=(0,2),bins=50, color='b', alpha=0.6)\n",
    "axes[1].hist(dt[mask_bi], range=(0,500), bins=50)"
   ]
  },
  {
   "cell_type": "code",
   "execution_count": null,
   "id": "e26ec021-72b7-4352-911f-df634c7ccc2b",
   "metadata": {},
   "outputs": [],
   "source": []
  },
  {
   "cell_type": "code",
   "execution_count": 23,
   "id": "16fb4c80-e33d-451e-9297-661a7a9e6275",
   "metadata": {},
   "outputs": [],
   "source": [
    "Map = np.loadtxt('PDHD_PDS_ChannelMap.csv', skiprows=1, delimiter=',')"
   ]
  },
  {
   "cell_type": "code",
   "execution_count": 40,
   "id": "5bb848da-272a-4fc6-97f1-7d00355acc4f",
   "metadata": {},
   "outputs": [],
   "source": [
    "APAs = np.unique(Map[:,1])\n",
    "z_window=200\n",
    "y_window=15\n",
    "cluster_z_all = []\n",
    "cluster_y_all = []\n",
    "for APA in APAs:\n",
    "    y_vals = Map[:,4][Map[:,1] == APA]\n",
    "    z_vals = Map[:,5][Map[:,1] == APA]\n",
    "\n",
    "    unique_y_vals = np.unique(y_vals)\n",
    "    unique_z_vals = list(np.unique(z_vals))*10\n",
    "    for i in range(len(unique_y_vals)):\n",
    "        #cluster_mask = (charge_z[mask] > z_vals[i] - z_window/2) & (charge_z[mask] < z_vals[i] + z_window/2) & \\\n",
    "        #                (charge_y[mask] > y_vals[i] - y_window/2) & (charge_y[mask] < y_vals[i] + y_window/2)\n",
    "        cluster_mask = (charge_z[mask] > unique_z_vals[i] - z_window/2) & (charge_z[mask] < unique_z_vals[i] + z_window/2) & \\\n",
    "                        (charge_y[mask] > unique_y_vals[i] - y_window/2) & (charge_y[mask] < unique_y_vals[i] + y_window/2)\n",
    "        if np.any(cluster_mask):\n",
    "            cluster_z_all += list(charge_z[mask][cluster_mask] - unique_z_vals[i])\n",
    "            cluster_y_all += list(charge_y[mask][cluster_mask] - unique_y_vals[i])"
   ]
  },
  {
   "cell_type": "code",
   "execution_count": 41,
   "id": "55e168b9-29e7-40c2-8f3b-cc1998906198",
   "metadata": {},
   "outputs": [
    {
     "data": {
      "text/plain": [
       "array([347.29625, 347.29625, 347.29625, 347.29625, 347.29625, 347.29625,\n",
       "       347.29625, 347.29625, 347.29625, 347.29625, 347.29625, 347.29625,\n",
       "       347.29625, 347.29625, 347.29625, 347.29625, 347.29625, 347.29625,\n",
       "       347.29625, 347.29625, 347.29625, 347.29625, 347.29625, 347.29625,\n",
       "       347.29625, 347.29625, 347.29625, 347.29625, 347.29625, 347.29625,\n",
       "       347.29625, 347.29625, 347.29625, 347.29625, 347.29625, 347.29625,\n",
       "       347.29625, 347.29625, 347.29625, 347.29625])"
      ]
     },
     "execution_count": 41,
     "metadata": {},
     "output_type": "execute_result"
    }
   ],
   "source": [
    "z_vals"
   ]
  },
  {
   "cell_type": "code",
   "execution_count": 42,
   "id": "86d67ebe-6312-41e2-a375-e4a32ff4b8ab",
   "metadata": {},
   "outputs": [
    {
     "data": {
      "text/plain": [
       "17762"
      ]
     },
     "execution_count": 42,
     "metadata": {},
     "output_type": "execute_result"
    }
   ],
   "source": [
    "len(cluster_z_all)"
   ]
  },
  {
   "cell_type": "code",
   "execution_count": 48,
   "id": "db007dfc-4eaf-4522-9c55-905eff21dc49",
   "metadata": {},
   "outputs": [
    {
     "data": {
      "image/png": "[encoded data removed]",
      "text/plain": [
       "<Figure size 1200x200 with 1 Axes>"
      ]
     },
     "metadata": {},
     "output_type": "display_data"
    }
   ],
   "source": [
    "plt.figure(figsize=(12,2))\n",
    "plt.hist2d(cluster_z_all, cluster_y_all, bins=[10*13, 10])\n",
    "plt.show()"
   ]
  },
  {
   "cell_type": "code",
   "execution_count": null,
   "id": "64ea7b1a-e5d1-4522-9450-7f0b9af2930a",
   "metadata": {},
   "outputs": [],
   "source": []
  }
 ],
 "metadata": {
  "kernelspec": {
   "display_name": "Python 3 (ipykernel)",
   "language": "python",
   "name": "python3"
  },
  "language_info": {
   "codemirror_mode": {
    "name": "ipython",
    "version": 3
   },
   "file_extension": ".py",
   "mimetype": "text/x-python",
   "name": "python",
   "nbconvert_exporter": "python",
   "pygments_lexer": "ipython3",
   "version": "3.10.4"
  }
 },
 "nbformat": 4,
 "nbformat_minor": 5
}
